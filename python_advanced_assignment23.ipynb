{
 "cells": [
  {
   "cell_type": "code",
   "execution_count": null,
   "metadata": {},
   "outputs": [],
   "source": [
    "#Q1 - If you have any, what are your choices for increasing the comparison between different figures on the same graph?\n",
    "#Answer:\n",
    "When it comes to increasing the comparison between different figures on the same graph, there are several strategies you can employ. \n",
    "Here are a few options:\n",
    "\n",
    "Adjust the scale: Changing the scale of the axes can make the differences between figures more apparent. For example, you can modify the \n",
    "range of values displayed on the y-axis to amplify the variations between data points.\n",
    "\n",
    "Use different symbols or colors: Assigning distinct symbols or colors to each figure can help differentiate them more effectively. \n",
    "By employing a visual cue that is easily distinguishable, you enhance the contrast between the data points.\n",
    "\n",
    "Add reference lines or benchmarks: Incorporating reference lines or benchmarks on the graph can provide additional context for comparison. \n",
    "These lines can represent average values, target goals, or other meaningful reference points that help viewers assess the relative \n",
    "performance of different figures.\n",
    "\n",
    "Utilize annotations or labels: Annotating specific data points or figures with labels can draw attention to important details or outliers. \n",
    "Labels can be used to highlight exceptional values or provide additional information that aids in understanding and comparing the figures.\n"
   ]
  },
  {
   "cell_type": "code",
   "execution_count": null,
   "metadata": {},
   "outputs": [],
   "source": [
    "#Q2 - Can you explain the benefit of compound interest over a higher rate of interest that does not compound after reading this chapter?\n",
    "#Answer:\n",
    "Compound interest is the concept of earning interest on both the initial principal and any accumulated interest. It allows your investment to \n",
    "grow exponentially over time. In contrast, a higher rate of interest that does not compound would only apply to the initial principal amount.\n",
    "\n",
    "The benefit of compound interest can be better understood by considering the long-term effects it has on investments or loans. Here are a few \n",
    "key advantages:\n",
    "\n",
    "Exponential growth: Compound interest enables your investment to grow at an accelerating rate. As interest is periodically added to the \n",
    "principal amount, subsequent interest calculations are based on the new, larger total. This compounding effect leads to exponential \n",
    "growth over time, which can significantly increase your returns.\n",
    "\n",
    "Maximizes time: Compound interest rewards those who start investing early and allows them to benefit from the power of time. The longer \n",
    "your money remains invested, the more time it has to compound and generate additional earnings. This makes it particularly advantageous \n",
    "for long-term investments, such as retirement accounts or savings plans.\n",
    "\n",
    "Boosts wealth accumulation: Over an extended period, compound interest can substantially boost your overall wealth. The compounding \n",
    "effect enables your investment to grow beyond what a simple interest calculation would yield. This compounding effect is especially \n",
    "powerful when combined with regular contributions or reinvestment of dividends."
   ]
  },
  {
   "cell_type": "code",
   "execution_count": 1,
   "metadata": {},
   "outputs": [
    {
     "data": {
      "image/png": "[encoded data removed]",
      "text/plain": [
       "<Figure size 640x480 with 1 Axes>"
      ]
     },
     "metadata": {},
     "output_type": "display_data"
    }
   ],
   "source": [
    "#Q3 - What is a histogram, exactly? Name a numpy method for creating such a graph.\n",
    "#Answer:\n",
    "'''A histogram is a graphical representation of the distribution of a dataset. It is commonly used to visualize the frequency or count of \n",
    "values within specific intervals or \"bins\" along a continuous range. In a histogram, the horizontal axis represents the range of values, \n",
    "divided into bins, while the vertical axis represents the frequency or count of values falling into each bin.\n",
    "\n",
    "Numpy, a popular numerical computing library in Python, provides a method called histogram() for creating histograms. This method calculates \n",
    "and returns the histogram values and bin edges based on the input data. '''\n",
    "\n",
    "#Exp:\n",
    "import numpy as np\n",
    "import matplotlib.pyplot as plt\n",
    "\n",
    "# Generate some random data\n",
    "data = np.random.randn(1000)\n",
    "\n",
    "# Create histogram\n",
    "hist_values, bin_edges = np.histogram(data, bins=10)\n",
    "\n",
    "# Plot the histogram\n",
    "plt.hist(data, bins=10)\n",
    "\n",
    "# Add labels and title\n",
    "plt.xlabel('Value')\n",
    "plt.ylabel('Frequency')\n",
    "plt.title('Histogram')\n",
    "\n",
    "# Display the histogram\n",
    "plt.show()"
   ]
  },
  {
   "cell_type": "code",
   "execution_count": 2,
   "metadata": {},
   "outputs": [
    {
     "data": {
      "image/png": "[encoded data removed]",
      "text/plain": [
       "<Figure size 640x480 with 1 Axes>"
      ]
     },
     "metadata": {},
     "output_type": "display_data"
    }
   ],
   "source": [
    "#Q4 - If necessary, how do you change the aspect ratios between the X and Y axes?\n",
    "#Answer:\n",
    "\n",
    "'''To change the aspect ratios between the X and Y axes, you can adjust the aspect ratio of the plot. \n",
    "Here's how you can do it using Matplotlib, a popular plotting library in Python: '''\n",
    "\n",
    "import matplotlib.pyplot as plt\n",
    "\n",
    "# Generate some data\n",
    "x = [1, 2, 3, 4, 5]\n",
    "y = [2, 4, 6, 8, 10]\n",
    "\n",
    "# Create the plot\n",
    "plt.plot(x, y)\n",
    "\n",
    "# Adjust the aspect ratio\n",
    "plt.gca().set_aspect('equal')\n",
    "\n",
    "# Display the plot\n",
    "plt.show()\n"
   ]
  },
  {
   "cell_type": "code",
   "execution_count": 7,
   "metadata": {},
   "outputs": [
    {
     "name": "stdout",
     "output_type": "stream",
     "text": [
      "[ 4 10 18]\n",
      "32\n",
      "[[ 4  5  6]\n",
      " [ 8 10 12]\n",
      " [12 15 18]]\n"
     ]
    }
   ],
   "source": [
    "#Q5 - Compare and contrast the three types of array multiplication between two numpy arrays: dot product, outer product, and regular multiplication of two numpy arrays.\n",
    "#Answer:\n",
    "'''The three types of array multiplication between two NumPy arrays, namely dot product, outer product, and regular multiplication, \n",
    "have different mathematical operations and produce distinct results. Here's a comparison and contrast of these operations: '''\n",
    "\n",
    "#1. Regular Multiplication:\n",
    "\n",
    "#Exp:\n",
    "import numpy as np\n",
    "\n",
    "arr1 = np.array([1, 2, 3])\n",
    "arr2 = np.array([4, 5, 6])\n",
    "\n",
    "result = arr1 * arr2\n",
    "print(result)\n",
    "\n",
    "\n",
    "#2. Dot Product:\n",
    "\n",
    "#Exp:\n",
    "import numpy as np\n",
    "\n",
    "arr1 = np.array([1, 2, 3])\n",
    "arr2 = np.array([4, 5, 6])\n",
    "\n",
    "result1 = np.dot(arr1, arr2)\n",
    "print(result1)\n",
    "\n",
    "\n",
    "#3. Outer Product:\n",
    "import numpy as np\n",
    "\n",
    "arr1 = np.array([1, 2, 3])\n",
    "arr2 = np.array([4, 5, 6])\n",
    "\n",
    "result2 = np.outer(arr1, arr2)\n",
    "print(result2)\n"
   ]
  },
  {
   "cell_type": "code",
   "execution_count": null,
   "metadata": {},
   "outputs": [],
   "source": [
    "#Q6 - Before you buy a home, which numpy function will you use to measure your monthly mortgage payment?\n",
    "#Answer:\n",
    "NumPy is primarily a numerical computing library and does not provide specific functions for mortgage payment calculations. However, \n",
    "you can utilize mathematical formulas and equations to calculate the monthly mortgage payment. Some key factors involved in mortgage \n",
    "payment calculations include the loan amount, interest rate, loan term, and periodic compounding.\n",
    "\n",
    "To calculate the monthly mortgage payment, you can use the formula for the fixed-rate mortgage payment:\n",
    "\n",
    "M = P * (r * (1 + r)^n) / ((1 + r)^n - 1)\n",
    "\n",
    "Where:\n",
    "\n",
    "M is the monthly mortgage payment\n",
    "P is the loan amount (principal)\n",
    "r is the monthly interest rate (annual interest rate divided by 12 and expressed as a decimal)\n",
    "n is the total number of monthly payments (loan term multiplied by 12)"
   ]
  },
  {
   "cell_type": "code",
   "execution_count": null,
   "metadata": {},
   "outputs": [],
   "source": [
    "#Q7 - Can string data be stored in numpy arrays? If so, list at least one restriction that applies to this data.\n",
    "#Answer:\n",
    "Yes, string data can be stored in NumPy arrays. NumPy provides a data type called numpy.string_ or numpy.unicode_ to handle string data. \n",
    "You can create a NumPy array with string data by specifying the dtype parameter as numpy.string_ or numpy.unicode_.\n",
    "\n",
    "#Exp:\n",
    "import numpy as np\n",
    "\n",
    "# Create a NumPy array with string data\n",
    "arr = np.array(['apple', 'banana', 'cherry'], dtype=np.string_)\n",
    "\n",
    "However, there is a restriction to keep in mind when working with string data in NumPy arrays:\n",
    "\n",
    "Fixed-length strings: NumPy arrays have a fixed size, and when storing strings, the array elements are treated as fixed-length. This means \n",
    "that the array will allocate a fixed number of characters for each string element, based on the length of the longest string in the array. \n",
    "Any strings that are shorter than the allocated length will be padded with null characters (\\x00) to match the fixed length.\n",
    "\n",
    "#Exp:\n",
    "import numpy as np\n",
    "\n",
    "# Create a NumPy array with fixed-length strings\n",
    "arr = np.array(['apple', 'banana', 'cherry'], dtype=np.string_, max_length=10)\n"
   ]
  }
 ],
 "metadata": {
  "kernelspec": {
   "display_name": "Python 3.9.6 64-bit",
   "language": "python",
   "name": "python3"
  },
  "language_info": {
   "codemirror_mode": {
    "name": "ipython",
    "version": 3
   },
   "file_extension": ".py",
   "mimetype": "text/x-python",
   "name": "python",
   "nbconvert_exporter": "python",
   "pygments_lexer": "ipython3",
   "version": "3.9.6"
  },
  "orig_nbformat": 4,
  "vscode": {
   "interpreter": {
    "hash": "31f2aee4e71d21fbe5cf8b01ff0e069b9275f58929596ceb00d14d90e3e16cd6"
   }
  }
 },
 "nbformat": 4,
 "nbformat_minor": 2
}
